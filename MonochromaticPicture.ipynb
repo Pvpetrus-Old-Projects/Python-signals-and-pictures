{
  "nbformat": 4,
  "nbformat_minor": 0,
  "metadata": {
    "colab": {
      "name": "Tworzenie Histogramu AK.ipynb",
      "provenance": [],
      "collapsed_sections": []
    },
    "kernelspec": {
      "name": "python3",
      "display_name": "Python 3"
    },
    "language_info": {
      "name": "python"
    }
  },
  "cells": [
    {
      "cell_type": "code",
      "execution_count": null,
      "metadata": {
        "colab": {
          "base_uri": "https://localhost:8080/",
          "height": 516
        },
        "id": "QG5sYzGcyBU8",
        "outputId": "a3395d4f-230e-44d7-fb81-752dce488aa1"
      },
      "outputs": [
        {
          "output_type": "display_data",
          "data": {
            "image/png": "[encoded data removed]",
            "text/plain": [
              "<Figure size 432x288 with 1 Axes>"
            ]
          },
          "metadata": {
            "needs_background": "light"
          }
        },
        {
          "output_type": "display_data",
          "data": {
            "image/png": "[encoded data removed]",
            "text/plain": [
              "<Figure size 432x288 with 1 Axes>"
            ]
          },
          "metadata": {
            "needs_background": "light"
          }
        }
      ],
      "source": [
        "#Wyrównywanie zdjęcia\n",
        "\n",
        "import numpy as np\n",
        "from PIL import Image\n",
        "import pygal\n",
        "import sys\n",
        "import numpy as np\n",
        "import matplotlib.pyplot as plt\n",
        "import cv2\n",
        "\n",
        "zdjecie = Image.open(\"zdjecie_wejsciowe.jpg\")\n",
        "\n",
        "#konwersja zdjęcia do szarego, jednokanałowego, posiadającego tylko skalę szarości\n",
        "zdjecie_szare = zdjecie.convert(mode='L')\n",
        "\n",
        "#histogram zdjecia przed\n",
        "\n",
        "wykres_histogramu = cv2.imread('zdjecie_wejsciowe.jpg')\n",
        "wartosci = wykres_histogramu.mean(axis=2).flatten()\n",
        "ilosc, bins = np.histogram(wartosci, range(257))\n",
        "plt.bar(bins[:-1] - 0.5, ilosc, width=1, edgecolor='none')\n",
        "plt.xlim([-0.5, 255.5])\n",
        "plt.show()\n",
        "\n",
        "\n",
        "\n",
        "#przekształcenie zdjęcia do postaci tablicy numpy\n",
        "zdjecie_jako_tablica = np.asarray(zdjecie_szare)\n",
        "\n",
        "#tworzenie histogramu przy pomocy wypłaszczonego obrazu\n",
        "tablica_histogramu = np.bincount(zdjecie_jako_tablica.flatten(), minlength=256)\n",
        "\n",
        "#obliczenie sumy pikseli\n",
        "liczba_pikseli = np.sum(tablica_histogramu)\n",
        "\n",
        "#normalizacja\n",
        "tablica_histogramu = tablica_histogramu/liczba_pikseli\n",
        "\n",
        "#normalizacja do skumulowanego histogramu\n",
        "tablica_histogramu_skumulowanego = np.cumsum(tablica_histogramu)\n",
        "\n",
        "#mapowanie pikseli\n",
        "mapa_pikseli_przetransformowana = np.floor(255 * tablica_histogramu_skumulowanego).astype(np.uint8)\n",
        "\n",
        "#przemiana zdjęcia z listy dwuwymiarowej do jednowymiarowej\n",
        "zdjecie_jako_lista_1d = list(zdjecie_jako_tablica.flatten())\n",
        "\n",
        "#transformacja wartości pikseli\n",
        "wyrownane_zdjecie_jako_lista_1d = [mapa_pikseli_przetransformowana[i] for i in zdjecie_jako_lista_1d]\n",
        "\n",
        "#zmiana kształtu z listy do tablicy\n",
        "wyrownane_zdjecie_jako_tablica = np.reshape(np.asarray(wyrownane_zdjecie_jako_lista_1d), zdjecie_jako_tablica.shape)\n",
        "\n",
        "#zapisanie zdjęcia wyrównanego do pliku\n",
        "Image.fromarray(wyrownane_zdjecie_jako_tablica, mode='L').save(\"zdjecie_wyjsciowe.jpg\")\n",
        "\n",
        "\n",
        "\n",
        "#histogram zdjecia po\n",
        "\n",
        "wykres_histogramu = cv2.imread('zdjecie_wyjsciowe.jpg')\n",
        "wartosci = wykres_histogramu.mean(axis=2).flatten()\n",
        "ilosc, bins = np.histogram(wartosci, range(257))\n",
        "plt.bar(bins[:-1] - 0.5, ilosc, width=1, edgecolor='none')\n",
        "plt.xlim([-0.5, 255.5])\n",
        "plt.show()\n"
      ]
    },
    {
      "cell_type": "code",
      "source": [
        "import numpy as np\n",
        "import matplotlib.pyplot as plt\n",
        "import PIL\n",
        "from PIL import Image\n",
        "\n",
        "img = Image.open('zdjecie_wejsciowe.jpg')\n",
        "img = img.convert('L')\n",
        "img.save('monochromatyczny.png')\n",
        "monoc = Image.open(\"/content/monochromatyczny.png\")\n",
        "pixelMap = monoc.load()\n",
        "mono=Image.new(monoc.mode,monoc.size)\n",
        "pixelsNew=mono.load()\n",
        "\n",
        "\n",
        "min=0\n",
        "max=0\n",
        "\n",
        "wys = mono.width\n",
        "sze = mono.height\n",
        "\n",
        "for i in range(mono.size[0]):\n",
        "    for j in range(mono.size[1]):\n",
        "       pixelsNew[i,j] = pixelMap[i,j]\n",
        "\n",
        "for x in range(0, wys):\n",
        "  for y in range(0, sze):\n",
        "    if min>mono.getpixel((x,y)):\n",
        "      min=mono.getpixel((x,y))\n",
        "    if max<mono.getpixel((x,y)):\n",
        "      max=mono.getpixel((x,y))\n",
        "    \n",
        "\n",
        "print(min)\n",
        "print(max)\n",
        "\n",
        "for i in range(mono.size[0]):\n",
        "    for j in range(mono.size[1]):\n",
        "         pixelsNew[i,j] = int((pixelMap[i,j]-min)*256/(max-min))\n",
        "\n",
        "for x in range(0, wys):\n",
        "  for y in range(0, sze):\n",
        "    if min>mono.getpixel((x,y)):\n",
        "      min=mono.getpixel((x,y))\n",
        "    if max<mono.getpixel((x,y)):\n",
        "      max=mono.getpixel((x,y))\n",
        "    \n",
        "\n",
        "print(min)\n",
        "print(max)\n",
        "\n",
        "mono.save('wynik.png')"
      ],
      "metadata": {
        "colab": {
          "base_uri": "https://localhost:8080/"
        },
        "id": "8ny2dF3cPG1x",
        "outputId": "c3731683-aef5-4ee5-a506-56fc8bd5f28f"
      },
      "execution_count": null,
      "outputs": [
        {
          "output_type": "stream",
          "name": "stdout",
          "text": [
            "0\n",
            "208\n",
            "0\n",
            "255\n"
          ]
        }
      ]
    }
  ]
}
